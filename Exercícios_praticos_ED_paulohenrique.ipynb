{
  "nbformat": 4,
  "nbformat_minor": 0,
  "metadata": {
    "colab": {
      "provenance": [],
      "authorship_tag": "ABX9TyMGUVCXXW4Oge793c37OvvO",
      "include_colab_link": true
    },
    "kernelspec": {
      "name": "python3",
      "display_name": "Python 3"
    },
    "language_info": {
      "name": "python"
    }
  },
  "cells": [
    {
      "cell_type": "markdown",
      "metadata": {
        "id": "view-in-github",
        "colab_type": "text"
      },
      "source": [
        "<a href=\"https://colab.research.google.com/github/pehagaph/EstruturaDeDados/blob/main/Exerc%C3%ADcios_praticos_ED_paulohenrique.ipynb\" target=\"_parent\"><img src=\"https://colab.research.google.com/assets/colab-badge.svg\" alt=\"Open In Colab\"/></a>"
      ]
    },
    {
      "cell_type": "markdown",
      "source": [
        "**Exercício 1**"
      ],
      "metadata": {
        "id": "-4p47ghIhV1q"
      }
    },
    {
      "cell_type": "code",
      "execution_count": null,
      "metadata": {
        "colab": {
          "base_uri": "https://localhost:8080/"
        },
        "id": "T-dFebkgoooY",
        "outputId": "45cac210-4ea0-4d21-f260-c9d01a328853"
      },
      "outputs": [
        {
          "output_type": "stream",
          "name": "stdout",
          "text": [
            "['O feitiço da Lua Crescente ', 'A Jornada do Unicórnio Perdido', 'Segredos da Floresta Encantada ']\n"
          ]
        }
      ],
      "source": [
        "# Inicializa um catálogo vazio para armazenar livros\n",
        "catalogo_magico = []\n",
        "\n",
        "# Função que adiciona um livro ao catálogo\n",
        "def adicionar_livro(catalogo, livro):\n",
        "    # Adiciona o livro no final da lista 'catalogo'\n",
        "    catalogo.append(livro)\n",
        "\n",
        "# Adiciona três livros mágicos ao catálogo usando a função 'adicionar_livro'\n",
        "adicionar_livro(catalogo_magico, \"O feitiço da Lua Crescente \")\n",
        "adicionar_livro(catalogo_magico, \"A Jornada do Unicórnio Perdido\")\n",
        "adicionar_livro(catalogo_magico, \"Segredos da Floresta Encantada \")\n",
        "\n",
        "# Imprime o catálogo mágico para verificar os livros adicionados\n",
        "print(catalogo_magico)\n"
      ]
    },
    {
      "cell_type": "code",
      "source": [
        "# Inicializa um catálogo vazio para armazenar livros\n",
        "catalogo_magico = []\n",
        "\n",
        "# Função que adiciona um livro ao catálogo\n",
        "def adicionar_livro(catalogo, livro):\n",
        "    # Adiciona o livro no final da lista 'catalogo' usando o método append\n",
        "    catalogo.append(livro)\n",
        "\n",
        "# Adiciona três livros mágicos ao catálogo usando a função 'adicionar_livro'\n",
        "adicionar_livro(catalogo_magico, \"O feitiço da Lua Crescente \")  # Primeiro livro\n",
        "adicionar_livro(catalogo_magico, \"A Jornada do Unicórnio Perdido\")  # Segundo livro\n",
        "adicionar_livro(catalogo_magico, \"Segredos da Floresta Encantada \")  # Terceiro livro\n",
        "\n",
        "# Imprime o catálogo mágico para verificar os livros adicionados\n",
        "print(catalogo_magico)  # Exibe a lista com todos os livros adicionados\n"
      ],
      "metadata": {
        "colab": {
          "base_uri": "https://localhost:8080/"
        },
        "id": "PC5PULUWo2IV",
        "outputId": "1a1081af-dd24-4971-b68f-d47944f1930b"
      },
      "execution_count": null,
      "outputs": [
        {
          "output_type": "stream",
          "name": "stdout",
          "text": [
            "['O feitiço da Lua Crescente ', 'A Jornada do Unicórnio Perdido', 'Segredos da Floresta Encantada ']\n"
          ]
        }
      ]
    },
    {
      "cell_type": "code",
      "source": [
        "# Remove o livro \"A Jornada do Unicórnio Perdido\"\n",
        "catalogo_magico.remove(\"A Jornada do Unicórnio Perdido\")"
      ],
      "metadata": {
        "id": "0YXr_FoKo3C3"
      },
      "execution_count": null,
      "outputs": []
    },
    {
      "cell_type": "code",
      "source": [
        "# Imprime o catálogo mágico para verificar os livros restantes\n",
        "print(catalogo_magico)"
      ],
      "metadata": {
        "colab": {
          "base_uri": "https://localhost:8080/"
        },
        "id": "Xc98WIAMqtgj",
        "outputId": "f523a03d-9cb3-4c56-ec6b-c4e42ca74e9c"
      },
      "execution_count": null,
      "outputs": [
        {
          "output_type": "stream",
          "name": "stdout",
          "text": [
            "['O feitiço da Lua Crescente ', 'Segredos da Floresta Encantada ']\n"
          ]
        }
      ]
    },
    {
      "cell_type": "code",
      "source": [
        "# Função que verifica se um livro está no catálogo\n",
        "def verificar_livro(catalogo, livro):\n",
        "    # Verifica se o livro está presente no catálogo\n",
        "    if livro in catalogo:\n",
        "        return True  # Retorna True se o livro estiver no catálogo\n",
        "    else:\n",
        "        return False  # Retorna False se o livro não estiver no catálogo\n",
        "\n",
        "# Definindo o nome do livro que queremos verificar\n",
        "verificacao_livro = \"A Jornada do Unicórnio Perdido\"\n",
        "\n",
        "# Chamando a função verificar_livro e passando o catálogo e o livro a ser verificado\n",
        "result = verificar_livro(catalogo_magico, verificacao_livro)\n",
        "\n",
        "# Imprimindo o resultado da verificação\n",
        "print(f'O livro \"{verificacao_livro}\" está no catálogo {result}')\n"
      ],
      "metadata": {
        "colab": {
          "base_uri": "https://localhost:8080/"
        },
        "id": "x5JkFUSOqwoT",
        "outputId": "0a3ea4cb-2a0f-4142-b49f-6400330b2b1e"
      },
      "execution_count": null,
      "outputs": [
        {
          "output_type": "stream",
          "name": "stdout",
          "text": [
            "O livro \"A Jornada do Unicórnio Perdido\" está no catálogo False\n"
          ]
        }
      ]
    },
    {
      "cell_type": "markdown",
      "source": [
        "**Exercício 2**"
      ],
      "metadata": {
        "id": "d-6r_dZCvCN3"
      }
    },
    {
      "cell_type": "code",
      "source": [
        "from collections import deque\n",
        "\n",
        "# Inicializando a fila\n",
        "fila_de_atendimentos = deque()\n",
        "\n",
        "# Função para adicionar pedidos\n",
        "def adicionar_pedido(fila, pedido):\n",
        "    fila.append(pedido)\n",
        "\n",
        "# Função para processar pedidos\n",
        "def processar_pedido(fila_de_atendimentos):\n",
        "    if fila_de_atendimentos:\n",
        "        pedido = fila_de_atendimentos.popleft()\n",
        "        print(\"Pedido atendido:\", pedido)\n",
        "        return pedido\n",
        "    else:\n",
        "        print(\"A fila está vazia!\")\n",
        "\n"
      ],
      "metadata": {
        "id": "YiC0tX3evBz8"
      },
      "execution_count": null,
      "outputs": []
    },
    {
      "cell_type": "code",
      "source": [
        "# Função para verificar se a fila está vazia\n",
        "def fila_vazia(fila):\n",
        "    return len(fila) == 0\n",
        "\n",
        "# Adicionando pedidos à fila\n",
        "adicionar_pedido(fila_de_atendimentos, \"Martelo Encantado\")\n",
        "adicionar_pedido(fila_de_atendimentos, \"Pinça Teleportadora\")\n",
        "adicionar_pedido(fila_de_atendimentos, \"Chave de Fenda Sônica\")\n"
      ],
      "metadata": {
        "id": "1ZHpdXKPw1PX"
      },
      "execution_count": null,
      "outputs": []
    },
    {
      "cell_type": "code",
      "source": [
        "# 1. Verificar se a fila está vazia\n",
        "if fila_vazia(fila_de_atendimentos):\n",
        "    print(\"A fila está vazia!\")\n",
        "else:\n",
        "    print(\"A fila tem pedidos.\")"
      ],
      "metadata": {
        "colab": {
          "base_uri": "https://localhost:8080/"
        },
        "id": "V-K80JP9cC7I",
        "outputId": "a755cfae-fc9d-48c0-f894-fbc6f60b7326"
      },
      "execution_count": null,
      "outputs": [
        {
          "output_type": "stream",
          "name": "stdout",
          "text": [
            "A fila tem pedidos.\n"
          ]
        }
      ]
    },
    {
      "cell_type": "code",
      "source": [
        "# 3. Processar todos os pedidos restantes\n",
        "while not fila_vazia(fila_de_atendimentos):\n",
        "    processar_pedido(fila_de_atendimentos)\n"
      ],
      "metadata": {
        "colab": {
          "base_uri": "https://localhost:8080/"
        },
        "id": "nQAHjVrocEUs",
        "outputId": "6b9a06fb-69b5-4fc8-e9ca-66f7642f8620"
      },
      "execution_count": null,
      "outputs": [
        {
          "output_type": "stream",
          "name": "stdout",
          "text": [
            "Pedido atendido: Martelo Encantado\n",
            "Pedido atendido: Pinça Teleportadora\n",
            "Pedido atendido: Chave de Fenda Sônica\n",
            "Pedido atendido: Martelo Encantado\n",
            "Pedido atendido: Pinça Teleportadora\n",
            "Pedido atendido: Chave de Fenda Sônica\n"
          ]
        }
      ]
    },
    {
      "cell_type": "code",
      "source": [
        "# 4. Verificar a fila após processar todos os pedidos\n",
        "print(\"Fila após processar todos os pedidos:\", fila_de_atendimentos)"
      ],
      "metadata": {
        "colab": {
          "base_uri": "https://localhost:8080/"
        },
        "id": "6TfT8BWqcGxU",
        "outputId": "2211be3b-264b-4404-e7d0-f7f7e47e365f"
      },
      "execution_count": null,
      "outputs": [
        {
          "output_type": "stream",
          "name": "stdout",
          "text": [
            "Fila após processar todos os pedidos: deque([])\n"
          ]
        }
      ]
    },
    {
      "cell_type": "markdown",
      "source": [
        "**Exercício 3**"
      ],
      "metadata": {
        "id": "pKNYn9p7caRM"
      }
    },
    {
      "cell_type": "code",
      "source": [
        "# Criando a pilha (lista vazia)\n",
        "torre_de_cristais = []\n",
        "\n",
        "# Função para empilhar cristais\n",
        "def empilhar_cristal(pilha, cristal):\n",
        "    pilha.append(cristal)\n",
        "\n",
        "# Empilhando cristais\n",
        "empilhar_cristal(torre_de_cristais, \"Cristal do Passado\")\n",
        "empilhar_cristal(torre_de_cristais, \"Cristal do Presente\")\n",
        "empilhar_cristal(torre_de_cristais, \"Cristal do Futuro\")\n",
        "\n",
        "# Visualizando a pilha\n",
        "print(torre_de_cristais)\n"
      ],
      "metadata": {
        "colab": {
          "base_uri": "https://localhost:8080/"
        },
        "id": "CtAz7EKfcc9e",
        "outputId": "68d34a85-2c36-4166-9be3-34c481519508"
      },
      "execution_count": null,
      "outputs": [
        {
          "output_type": "stream",
          "name": "stdout",
          "text": [
            "['Cristal do Passado', 'Cristal do Presente', 'Cristal do Futuro']\n"
          ]
        }
      ]
    },
    {
      "cell_type": "code",
      "source": [
        "# Visualizando a pilha (o topo estará no final da lista)\n",
        "print(\"Pilha de Cristais:\", torre_de_cristais)"
      ],
      "metadata": {
        "colab": {
          "base_uri": "https://localhost:8080/"
        },
        "id": "HQlJBpt7c35_",
        "outputId": "1e060163-37ee-4d11-d357-2dae540b5ace"
      },
      "execution_count": null,
      "outputs": [
        {
          "output_type": "stream",
          "name": "stdout",
          "text": [
            "Pilha de Cristais: ['Cristal do Passado', 'Cristal do Presente', 'Cristal do Futuro']\n"
          ]
        }
      ]
    },
    {
      "cell_type": "code",
      "source": [
        "# Função para desempilhar cristal (remover o topo da pilha)\n",
        "def desempilhar_cristal(pilha):\n",
        "    if pilha:\n",
        "        cristal = pilha.pop()  # Remove o cristal do topo\n",
        "        print(\"Cristal utilizado no ritual:\", cristal)\n",
        "        return cristal\n",
        "    else:\n",
        "        print(\"A pilha está vazia!\")"
      ],
      "metadata": {
        "id": "XPGMHAGOc9bG"
      },
      "execution_count": null,
      "outputs": []
    },
    {
      "cell_type": "code",
      "source": [
        "# Função para verificar se a pilha está vazia\n",
        "def pilha_vazia(pilha):\n",
        "    return len(pilha) == 0\n",
        "\n",
        "# Verificando se a pilha está vazia\n",
        "if pilha_vazia(torre_de_cristais):\n",
        "    print(\"A pilha está vazia!\")\n",
        "else:\n",
        "    print(\"A pilha tem cristais.\")"
      ],
      "metadata": {
        "colab": {
          "base_uri": "https://localhost:8080/"
        },
        "id": "nDNpDJJMdAje",
        "outputId": "5562c0e7-84db-4f56-b78d-91b22444d5ad"
      },
      "execution_count": null,
      "outputs": [
        {
          "output_type": "stream",
          "name": "stdout",
          "text": [
            "A pilha tem cristais.\n"
          ]
        }
      ]
    },
    {
      "cell_type": "code",
      "source": [
        "# Visualizando a pilha restante\n",
        "print(\"Pilha restante:\", torre_de_cristais)"
      ],
      "metadata": {
        "colab": {
          "base_uri": "https://localhost:8080/"
        },
        "id": "NTf_dsX-dGI9",
        "outputId": "df5d202c-9c40-4705-d5a6-b179c83dc06b"
      },
      "execution_count": null,
      "outputs": [
        {
          "output_type": "stream",
          "name": "stdout",
          "text": [
            "Pilha restante: ['Cristal do Passado', 'Cristal do Presente', 'Cristal do Futuro']\n"
          ]
        }
      ]
    },
    {
      "cell_type": "code",
      "source": [
        "# Desempilhando todos os cristais restantes\n",
        "while not pilha_vazia(torre_de_cristais):\n",
        "    desempilhar_cristal(torre_de_cristais)\n",
        "\n",
        "# Verificando a pilha após desempilhar todos os cristais\n",
        "print(\"Pilha após todos os rituais:\", torre_de_cristais)"
      ],
      "metadata": {
        "colab": {
          "base_uri": "https://localhost:8080/"
        },
        "id": "IMHCzT5BdIhN",
        "outputId": "915dbbc4-e7fa-4532-a863-556cca29795c"
      },
      "execution_count": null,
      "outputs": [
        {
          "output_type": "stream",
          "name": "stdout",
          "text": [
            "Cristal utilizado no ritual: Cristal do Futuro\n",
            "Cristal utilizado no ritual: Cristal do Presente\n",
            "Cristal utilizado no ritual: Cristal do Passado\n",
            "Pilha após todos os rituais: []\n"
          ]
        }
      ]
    }
  ]
}